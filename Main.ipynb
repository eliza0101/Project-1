{
 "cells": [
  {
   "cell_type": "code",
   "execution_count": 3,
   "metadata": {},
   "outputs": [],
   "source": [
    "# Import dependencies \n",
    "import pandas as pd\n",
    "import numpy as np\n",
    "import datetime as dt\n",
    "import matplotlib.pyplot as plt\n",
    "from prophet import Prophet\n",
    "from pytrends.request import TrendReq \n"
   ]
  },
  {
   "cell_type": "code",
   "execution_count": 9,
   "metadata": {},
   "outputs": [],
   "source": [
    "# Load the datasets \n",
    "amazon_skincare = pd.read_csv('amazon_skincare_products.csv')\n",
    "amazon_ratings = pd.read_csv('amazon_ratings_beauty_products.csv')\n",
    "cosmetic_brands = pd.read_csv('cosmetic_brand_products.csv')"
   ]
  },
  {
   "cell_type": "code",
   "execution_count": 9,
   "metadata": {},
   "outputs": [
    {
     "ename": "SyntaxError",
     "evalue": "incomplete input (4257985270.py, line 15)",
     "output_type": "error",
     "traceback": [
      "\u001b[0;36m  Cell \u001b[0;32mIn[9], line 15\u001b[0;36m\u001b[0m\n\u001b[0;31m    # Clean the data\u001b[0m\n\u001b[0m                    ^\u001b[0m\n\u001b[0;31mSyntaxError\u001b[0m\u001b[0;31m:\u001b[0m incomplete input\n"
     ]
    }
   ],
   "source": [
    "# Data cleaning \n",
    "def clean_data(df):\n",
    "    # Remove duplicate rows\n",
    "\n",
    "    # Handle missing values\n",
    "\n",
    "    # Convert price to numeric, removing currency symbol\n",
    "\n",
    "    # Convert rating to numeric\n",
    "\n",
    "    # Extract number of reviews and convert to numeric\n",
    "\n",
    "    # Convert date to datetime\n",
    "\n",
    "# Clean the data\n"
   ]
  },
  {
   "cell_type": "code",
   "execution_count": null,
   "metadata": {},
   "outputs": [],
   "source": [
    "# Fetch Google Trends data "
   ]
  },
  {
   "cell_type": "code",
   "execution_count": null,
   "metadata": {},
   "outputs": [],
   "source": [
    "# Get trends for popular skincare products - identify and visualize the top 10 products by the number of reviews."
   ]
  },
  {
   "cell_type": "code",
   "execution_count": null,
   "metadata": {},
   "outputs": [],
   "source": [
    "# Customer preferences - identify and visualize the top 10 highly rated skincare products."
   ]
  },
  {
   "cell_type": "code",
   "execution_count": null,
   "metadata": {},
   "outputs": [],
   "source": [
    "# Market trends - visualize Google Trends data to show the relative search interest for the specified skincare products over time."
   ]
  },
  {
   "cell_type": "code",
   "execution_count": null,
   "metadata": {},
   "outputs": [],
   "source": [
    "# Competitive Pricing - analyzes and visualize the average price by brand."
   ]
  },
  {
   "cell_type": "code",
   "execution_count": null,
   "metadata": {},
   "outputs": [],
   "source": [
    "# Analyze price distribution - visualize the distribution of product prices.\n"
   ]
  },
  {
   "cell_type": "code",
   "execution_count": null,
   "metadata": {},
   "outputs": [],
   "source": [
    "# Analyze rating distribution - visualize the distribution of product ratings."
   ]
  },
  {
   "cell_type": "code",
   "execution_count": null,
   "metadata": {},
   "outputs": [],
   "source": [
    "# Correlation between price and rating - visualize the correlation between product price and rating using a scatter plot."
   ]
  },
  {
   "cell_type": "code",
   "execution_count": null,
   "metadata": {},
   "outputs": [],
   "source": [
    "# Time Series Forecasting with Prophet\n",
    "# Prepare the data for Prophet by aggregating the number of reviews by date.\n",
    "# Fit the Prophet model to the time series data.\n"
   ]
  },
  {
   "cell_type": "code",
   "execution_count": null,
   "metadata": {},
   "outputs": [],
   "source": [
    "# Make future predictions and visualizes the forecast and its components."
   ]
  },
  {
   "cell_type": "code",
   "execution_count": null,
   "metadata": {},
   "outputs": [],
   "source": [
    "# Recommend top 3 products based on high ratings (≥4.5) and a large number of reviews (>1000).\n",
    "\n",
    "# Print top 3 recommended skincare products"
   ]
  }
 ],
 "metadata": {
  "kernelspec": {
   "display_name": "dev",
   "language": "python",
   "name": "python3"
  },
  "language_info": {
   "codemirror_mode": {
    "name": "ipython",
    "version": 3
   },
   "file_extension": ".py",
   "mimetype": "text/x-python",
   "name": "python",
   "nbconvert_exporter": "python",
   "pygments_lexer": "ipython3",
   "version": "3.10.14"
  }
 },
 "nbformat": 4,
 "nbformat_minor": 2
}
