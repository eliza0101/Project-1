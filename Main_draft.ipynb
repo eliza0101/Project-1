{
 "cells": [
  {
   "cell_type": "code",
   "execution_count": 12,
   "metadata": {},
   "outputs": [
    {
     "data": {
      "text/plain": [
       "'Project 1: Byteme\\n   Instructor: Eric Cadena\\n   Team Members: Eliza Young, Tunji Air, Catherine Wanko, Richard M. Okhai'"
      ]
     },
     "execution_count": 12,
     "metadata": {},
     "output_type": "execute_result"
    }
   ],
   "source": [
    "\"\"\"Project 1: Byteme\n",
    "   Instructor: Eric Cadena\n",
    "   Team Members: Eliza Young, Tunji Air, Catherine Wanko, Richard M. Okhai\"\"\""
   ]
  },
  {
   "cell_type": "code",
   "execution_count": 1,
   "metadata": {},
   "outputs": [],
   "source": [
    "# Import dependencies \n",
    "import pandas as pd\n",
    "import numpy as np\n",
    "import datetime as dt\n",
    "import matplotlib.pyplot as plt\n",
    "#from prophet import Prophet\n",
    "#from pytrends.request import TrendReq \n"
   ]
  },
  {
   "cell_type": "code",
   "execution_count": 8,
   "metadata": {},
   "outputs": [],
   "source": [
    "# Load the datasets \n",
    "amazon_skincare = pd.read_csv(\"./Resources/amazon_skincare_products.csv\")\n",
    "amazon_ratings = pd.read_csv(\"./Resources/amazon_ratings_beauty_products.csv\")\n",
    "cosmetic_brands = pd.read_csv(\"./Resources/cosmetic_brand_products.csv\")"
   ]
  },
  {
   "cell_type": "code",
   "execution_count": 17,
   "metadata": {},
   "outputs": [],
   "source": [
    "# Data cleaning \n",
    "def clean_data(amazon_skin, amazon_r, cosmetic_brd):\n",
    "    # Remove duplicate rows - Amazon Skincare\n",
    "    amazon_skin = amazon_skin.applymap(lambda x: str(x) if isinstance(x, list) else x)\n",
    "    amazon_skin = amazon_skin.drop_duplicates().reset_index(drop=True)\n",
    "\n",
    "    #Remove duplicate rows - Amazon Rating\n",
    "    amazon_r = amazon_r.applymap(lambda x: str(x) if isinstance(x, list) else x)\n",
    "    amazon_r = amazon_r.drop_duplicates().reset_index(drop=True)\n",
    "\n",
    "    #Remove duplicate rows - Cosmetic Brands\n",
    "    cosmetic_brd = cosmetic_brd.applymap(lambda x: str(x) if isinstance(x, list) else x)\n",
    "    cosmetic_brd = cosmetic_brd.drop_duplicates().reset_index(drop=True)\n",
    "\n",
    "\n",
    "    # Handle missing values - Amazon Skincare\n",
    "    #forward fill argu\n",
    "    amazon_skin.fillna(method='ffill', inplace=True)\n",
    "    amazon_r.fillna(method='ffill', inplace=True)\n",
    "\n",
    "    #although cosmetic df does not contain any null or empyty value\n",
    "    cosmetic_brd.fillna(method='ffill', inplace=True)\n",
    "\n",
    "\n",
    "    # Convert price on rating/skincare dataset to float since it contains a decimal\n",
    "    # removing currency symbol\n",
    "    amazon_skin['Price'] = amazon_skin['Price'].astype(float)\n",
    "    amazon_r['price'] = amazon_r['price'].astype(float)\n",
    "\n",
    "\n",
    "    #drop price_sign on rating df since it only contains the $ symbol, \n",
    "    # but currency table still exist\n",
    "    amazon_r.drop(columns=[\"price_sign\"], inplace=True)\n",
    "\n",
    "    # Extract number of reviews and convert to \n",
    "    # float since it might contain decis on rating dataset\n",
    "    #utilize str.extract exprsn to retract num digits\n",
    "    amazon_r['rating'] = amazon_r['rating'].str.extract('(\\d+)').astype(float)\n",
    "\n",
    "    #utilize str.extract exprsn to retract num digits\n",
    "    cosmetic_brd['Rating'] = cosmetic_brd['Rating'].str.extract('(\\d+)').astype(float)\n",
    "\n",
    "    # Convert date to datetime - created_at, updated_at (a-rating)\n",
    "    amazon_r['created_at', 'updated_at'] = pd.to_datetime(amazon_r['created_at', 'updated_at'])\n",
    "\n",
    "    # convert date to datetime on cosmetic brand \n",
    "    # and check for invalid parsing to be conv to NaaN\n",
    "    cosmetic_brd['Timestamp'] = pd.to_datetime(cosmetic_brd['Timestamp'])\n",
    "\n",
    "\n",
    "# Clean the data?\n"
   ]
  },
  {
   "cell_type": "code",
   "execution_count": null,
   "metadata": {},
   "outputs": [],
   "source": [
    "# Fetch Google Trends data "
   ]
  },
  {
   "cell_type": "code",
   "execution_count": null,
   "metadata": {},
   "outputs": [],
   "source": [
    "# Get trends for popular skincare products - identify and visualize the top 10 products by the number of reviews."
   ]
  },
  {
   "cell_type": "code",
   "execution_count": null,
   "metadata": {},
   "outputs": [],
   "source": [
    "# Customer preferences - identify and visualize the top 10 highly rated skincare products."
   ]
  },
  {
   "cell_type": "code",
   "execution_count": null,
   "metadata": {},
   "outputs": [],
   "source": [
    "# Market trends - visualize Google Trends data to show the relative search interest for the specified skincare products over time."
   ]
  },
  {
   "cell_type": "code",
   "execution_count": null,
   "metadata": {},
   "outputs": [],
   "source": [
    "# Competitive Pricing - analyzes and visualize the average price by brand."
   ]
  },
  {
   "cell_type": "code",
   "execution_count": null,
   "metadata": {},
   "outputs": [],
   "source": [
    "# Analyze price distribution - visualize the distribution of product prices.\n"
   ]
  },
  {
   "cell_type": "code",
   "execution_count": null,
   "metadata": {},
   "outputs": [],
   "source": [
    "# Analyze rating distribution - visualize the distribution of product ratings."
   ]
  },
  {
   "cell_type": "code",
   "execution_count": null,
   "metadata": {},
   "outputs": [],
   "source": [
    "# Correlation between price and rating - visualize the correlation between product price and rating using a scatter plot."
   ]
  },
  {
   "cell_type": "code",
   "execution_count": null,
   "metadata": {},
   "outputs": [],
   "source": [
    "# Time Series Forecasting with Prophet\n",
    "# Prepare the data for Prophet by aggregating the number of reviews by date.\n",
    "# Fit the Prophet model to the time series data.\n"
   ]
  },
  {
   "cell_type": "code",
   "execution_count": null,
   "metadata": {},
   "outputs": [],
   "source": [
    "# Make future predictions and visualizes the forecast and its components."
   ]
  },
  {
   "cell_type": "code",
   "execution_count": null,
   "metadata": {},
   "outputs": [],
   "source": [
    "# Recommend top 3 products based on high ratings (≥4.5) and a large number of reviews (>1000).\n",
    "\n",
    "# Print top 3 recommended skincare products"
   ]
  }
 ],
 "metadata": {
  "kernelspec": {
   "display_name": "dev",
   "language": "python",
   "name": "python3"
  },
  "language_info": {
   "codemirror_mode": {
    "name": "ipython",
    "version": 3
   },
   "file_extension": ".py",
   "mimetype": "text/x-python",
   "name": "python",
   "nbconvert_exporter": "python",
   "pygments_lexer": "ipython3",
   "version": "3.11.7"
  }
 },
 "nbformat": 4,
 "nbformat_minor": 2
}
